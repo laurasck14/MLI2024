{
 "cells": [
  {
   "cell_type": "markdown",
   "metadata": {},
   "source": [
    "# Project 2: fire in the nature park\n",
    "\n",
    "Laura Santa Cruz<br>\n",
    "Intelligent data Analysis and Machine learning <br>\n",
    "University of Potsdam 2024<br>\n",
    "\n",
    "## 1. Introduction and problem setting\n",
    "\n",
    "The administration of the nature park Montesinho wants to **predict wild fires based on wheather data of the Fire-Wheather-Index (FWI)**. The aim is to recognize the affected area and consequently the intensity of the imminent wild fire as early as possible in order to be able to adequatly assess the danger caused by the fire.\n",
    "\n",
    "Data: \n",
    "    Collected from 517 wild fires containing following features: \n",
    "\n",
    "    X       X-coordinate of the fire in the park: 1 to 9 \n",
    "    Y       Y-coordinate of the fire in the park: 2 to 9 \n",
    "    month   month: ”jan“ to ”dec\"\n",
    "    day     day: ”mon“ bis ”sun“\n",
    "    FFMC    FFMC index of the FWI system: 18.7 to 96.2\n",
    "    DMC     DMC index of the FWI system: 1.1 bis 291.3  \n",
    "    DC      DC index of the system: 7.9 bis 860.6\n",
    "    ISI     ISI index of the FWI systems: 0.0 to 56.1\n",
    "    temp    temperature in degrees Celsius: 2.2 to 33.3\n",
    "    RH      relative humidity in %: 15 to 100\n",
    "    wind    wind velocity in km/h: 0.4 to 9.4\n",
    "    rain    rainfall in mm/m2: 0.0 to 6.4\n",
    "    area    forest area that has been burnt in hectare (ha): 0.09 to 1090.84\n",
    "\n",
    "Task:\n",
    "    Develop a model that predicts the burnt forest area as accurately as possible from the given data."
   ]
  },
  {
   "cell_type": "markdown",
   "metadata": {},
   "source": [
    "## 2. Data preparation and normalization"
   ]
  },
  {
   "cell_type": "markdown",
   "metadata": {},
   "source": [
    "## 3. Model creation"
   ]
  },
  {
   "cell_type": "markdown",
   "metadata": {},
   "source": [
    "## 4. Summary"
   ]
  },
  {
   "cell_type": "markdown",
   "metadata": {},
   "source": [
    "## 5. Conclusion"
   ]
  }
 ],
 "metadata": {
  "language_info": {
   "name": "python"
  }
 },
 "nbformat": 4,
 "nbformat_minor": 2
}
